{
 "cells": [
  {
   "cell_type": "code",
   "execution_count": 1,
   "metadata": {},
   "outputs": [
    {
     "name": "stderr",
     "output_type": "stream",
     "text": [
      "2024-03-23 17:02:28.085821: I external/local_tsl/tsl/cuda/cudart_stub.cc:32] Could not find cuda drivers on your machine, GPU will not be used.\n",
      "2024-03-23 17:02:28.175288: I external/local_tsl/tsl/cuda/cudart_stub.cc:32] Could not find cuda drivers on your machine, GPU will not be used.\n",
      "2024-03-23 17:02:28.533012: I tensorflow/core/platform/cpu_feature_guard.cc:210] This TensorFlow binary is optimized to use available CPU instructions in performance-critical operations.\n",
      "To enable the following instructions: AVX2 FMA, in other operations, rebuild TensorFlow with the appropriate compiler flags.\n",
      "2024-03-23 17:02:29.611201: W tensorflow/compiler/tf2tensorrt/utils/py_utils.cc:38] TF-TRT Warning: Could not find TensorRT\n"
     ]
    }
   ],
   "source": [
    "import pandas as pd\n",
    "from keras.models import Sequential\n",
    "from keras.layers import LSTM, Dense\n",
    "from sklearn.preprocessing import MinMaxScaler\n",
    "import matplotlib.pyplot as plt"
   ]
  },
  {
   "cell_type": "code",
   "execution_count": 2,
   "metadata": {},
   "outputs": [
    {
     "data": {
      "text/html": [
       "<div>\n",
       "<style scoped>\n",
       "    .dataframe tbody tr th:only-of-type {\n",
       "        vertical-align: middle;\n",
       "    }\n",
       "\n",
       "    .dataframe tbody tr th {\n",
       "        vertical-align: top;\n",
       "    }\n",
       "\n",
       "    .dataframe thead th {\n",
       "        text-align: right;\n",
       "    }\n",
       "</style>\n",
       "<table border=\"1\" class=\"dataframe\">\n",
       "  <thead>\n",
       "    <tr style=\"text-align: right;\">\n",
       "      <th></th>\n",
       "      <th>TIME</th>\n",
       "      <th>FM1</th>\n",
       "      <th>PE1</th>\n",
       "      <th>PE2</th>\n",
       "      <th>PE3</th>\n",
       "      <th>PE4</th>\n",
       "      <th>TP1</th>\n",
       "      <th>EPOCH</th>\n",
       "    </tr>\n",
       "  </thead>\n",
       "  <tbody>\n",
       "    <tr>\n",
       "      <th>0</th>\n",
       "      <td>16/09/2013 00:00</td>\n",
       "      <td>1.000000</td>\n",
       "      <td>0.538462</td>\n",
       "      <td>0.538462</td>\n",
       "      <td>0.123077</td>\n",
       "      <td>0.123077</td>\n",
       "      <td>0.142857</td>\n",
       "      <td>1379289600</td>\n",
       "    </tr>\n",
       "    <tr>\n",
       "      <th>1</th>\n",
       "      <td>16/09/2013 00:30</td>\n",
       "      <td>0.999475</td>\n",
       "      <td>0.538416</td>\n",
       "      <td>0.538416</td>\n",
       "      <td>0.123077</td>\n",
       "      <td>0.122985</td>\n",
       "      <td>0.143787</td>\n",
       "      <td>1379291400</td>\n",
       "    </tr>\n",
       "    <tr>\n",
       "      <th>2</th>\n",
       "      <td>16/09/2013 01:00</td>\n",
       "      <td>0.998950</td>\n",
       "      <td>0.538370</td>\n",
       "      <td>0.538370</td>\n",
       "      <td>0.123077</td>\n",
       "      <td>0.122894</td>\n",
       "      <td>0.144717</td>\n",
       "      <td>1379293200</td>\n",
       "    </tr>\n",
       "    <tr>\n",
       "      <th>3</th>\n",
       "      <td>16/09/2013 01:30</td>\n",
       "      <td>0.998424</td>\n",
       "      <td>0.538324</td>\n",
       "      <td>0.538324</td>\n",
       "      <td>0.123077</td>\n",
       "      <td>0.122802</td>\n",
       "      <td>0.145647</td>\n",
       "      <td>1379295000</td>\n",
       "    </tr>\n",
       "    <tr>\n",
       "      <th>4</th>\n",
       "      <td>16/09/2013 02:00</td>\n",
       "      <td>0.997899</td>\n",
       "      <td>0.538278</td>\n",
       "      <td>0.538278</td>\n",
       "      <td>0.123077</td>\n",
       "      <td>0.122711</td>\n",
       "      <td>0.146577</td>\n",
       "      <td>1379296800</td>\n",
       "    </tr>\n",
       "  </tbody>\n",
       "</table>\n",
       "</div>"
      ],
      "text/plain": [
       "               TIME       FM1       PE1       PE2       PE3       PE4  \\\n",
       "0  16/09/2013 00:00  1.000000  0.538462  0.538462  0.123077  0.123077   \n",
       "1  16/09/2013 00:30  0.999475  0.538416  0.538416  0.123077  0.122985   \n",
       "2  16/09/2013 01:00  0.998950  0.538370  0.538370  0.123077  0.122894   \n",
       "3  16/09/2013 01:30  0.998424  0.538324  0.538324  0.123077  0.122802   \n",
       "4  16/09/2013 02:00  0.997899  0.538278  0.538278  0.123077  0.122711   \n",
       "\n",
       "        TP1       EPOCH  \n",
       "0  0.142857  1379289600  \n",
       "1  0.143787  1379291400  \n",
       "2  0.144717  1379293200  \n",
       "3  0.145647  1379295000  \n",
       "4  0.146577  1379296800  "
      ]
     },
     "execution_count": 2,
     "metadata": {},
     "output_type": "execute_result"
    }
   ],
   "source": [
    "data = pd.read_csv('data/manual_30min_norm.csv')\n",
    "\n",
    "data.head()"
   ]
  },
  {
   "cell_type": "code",
   "execution_count": 3,
   "metadata": {},
   "outputs": [
    {
     "name": "stderr",
     "output_type": "stream",
     "text": [
      "/tmp/ipykernel_33069/2618172530.py:3: UserWarning: Parsing dates in %d/%m/%Y %H:%M format when dayfirst=False (the default) was specified. Pass `dayfirst=True` or specify a format to silence this warning.\n",
      "  data['TIME'] = pd.to_datetime(data['TIME'])\n"
     ]
    },
    {
     "data": {
      "text/html": [
       "<div>\n",
       "<style scoped>\n",
       "    .dataframe tbody tr th:only-of-type {\n",
       "        vertical-align: middle;\n",
       "    }\n",
       "\n",
       "    .dataframe tbody tr th {\n",
       "        vertical-align: top;\n",
       "    }\n",
       "\n",
       "    .dataframe thead th {\n",
       "        text-align: right;\n",
       "    }\n",
       "</style>\n",
       "<table border=\"1\" class=\"dataframe\">\n",
       "  <thead>\n",
       "    <tr style=\"text-align: right;\">\n",
       "      <th></th>\n",
       "      <th>TIME</th>\n",
       "      <th>FM1</th>\n",
       "      <th>PE1</th>\n",
       "      <th>PE2</th>\n",
       "      <th>PE3</th>\n",
       "      <th>PE4</th>\n",
       "      <th>TP1</th>\n",
       "      <th>EPOCH</th>\n",
       "    </tr>\n",
       "  </thead>\n",
       "  <tbody>\n",
       "    <tr>\n",
       "      <th>0</th>\n",
       "      <td>1379289600</td>\n",
       "      <td>1.000000</td>\n",
       "      <td>0.538462</td>\n",
       "      <td>0.538462</td>\n",
       "      <td>0.123077</td>\n",
       "      <td>0.123077</td>\n",
       "      <td>0.142857</td>\n",
       "      <td>1379289600</td>\n",
       "    </tr>\n",
       "    <tr>\n",
       "      <th>1</th>\n",
       "      <td>1379291400</td>\n",
       "      <td>0.999475</td>\n",
       "      <td>0.538416</td>\n",
       "      <td>0.538416</td>\n",
       "      <td>0.123077</td>\n",
       "      <td>0.122985</td>\n",
       "      <td>0.143787</td>\n",
       "      <td>1379291400</td>\n",
       "    </tr>\n",
       "    <tr>\n",
       "      <th>2</th>\n",
       "      <td>1379293200</td>\n",
       "      <td>0.998950</td>\n",
       "      <td>0.538370</td>\n",
       "      <td>0.538370</td>\n",
       "      <td>0.123077</td>\n",
       "      <td>0.122894</td>\n",
       "      <td>0.144717</td>\n",
       "      <td>1379293200</td>\n",
       "    </tr>\n",
       "    <tr>\n",
       "      <th>3</th>\n",
       "      <td>1379295000</td>\n",
       "      <td>0.998424</td>\n",
       "      <td>0.538324</td>\n",
       "      <td>0.538324</td>\n",
       "      <td>0.123077</td>\n",
       "      <td>0.122802</td>\n",
       "      <td>0.145647</td>\n",
       "      <td>1379295000</td>\n",
       "    </tr>\n",
       "    <tr>\n",
       "      <th>4</th>\n",
       "      <td>1379296800</td>\n",
       "      <td>0.997899</td>\n",
       "      <td>0.538278</td>\n",
       "      <td>0.538278</td>\n",
       "      <td>0.123077</td>\n",
       "      <td>0.122711</td>\n",
       "      <td>0.146577</td>\n",
       "      <td>1379296800</td>\n",
       "    </tr>\n",
       "  </tbody>\n",
       "</table>\n",
       "</div>"
      ],
      "text/plain": [
       "         TIME       FM1       PE1       PE2       PE3       PE4       TP1  \\\n",
       "0  1379289600  1.000000  0.538462  0.538462  0.123077  0.123077  0.142857   \n",
       "1  1379291400  0.999475  0.538416  0.538416  0.123077  0.122985  0.143787   \n",
       "2  1379293200  0.998950  0.538370  0.538370  0.123077  0.122894  0.144717   \n",
       "3  1379295000  0.998424  0.538324  0.538324  0.123077  0.122802  0.145647   \n",
       "4  1379296800  0.997899  0.538278  0.538278  0.123077  0.122711  0.146577   \n",
       "\n",
       "        EPOCH  \n",
       "0  1379289600  \n",
       "1  1379291400  \n",
       "2  1379293200  \n",
       "3  1379295000  \n",
       "4  1379296800  "
      ]
     },
     "execution_count": 3,
     "metadata": {},
     "output_type": "execute_result"
    }
   ],
   "source": [
    "#Отчистка данных\n",
    "\n",
    "data['TIME'] = pd.to_datetime(data['TIME'])\n",
    "\n",
    "data['TIME'] = (data['TIME'] - pd.Timestamp(\"1970-01-01\")) // pd.Timedelta('1s')\n",
    "data.head()"
   ]
  },
  {
   "cell_type": "code",
   "execution_count": 4,
   "metadata": {},
   "outputs": [],
   "source": [
    "scaler = MinMaxScaler(feature_range=(0, 1))\n",
    "scaled_data = scaler.fit_transform(data)\n",
    "\n",
    "train_length = int(len(scaled_data) * 0.7)\n",
    "\n",
    "X = scaled_data[:, 1:]\n",
    "y = scaled_data[:, 0]"
   ]
  },
  {
   "cell_type": "code",
   "execution_count": 5,
   "metadata": {},
   "outputs": [],
   "source": [
    "# Разделение данных на обучающую и тестовую выборки\n",
    "train_X = X[0:train_length]\n",
    "train_y = y[0:train_length]\n",
    "test_X = X[train_length:]\n",
    "test_y = y[train_length:]"
   ]
  },
  {
   "cell_type": "code",
   "execution_count": 6,
   "metadata": {},
   "outputs": [
    {
     "name": "stdout",
     "output_type": "stream",
     "text": [
      "Epoch 1/20\n"
     ]
    },
    {
     "name": "stderr",
     "output_type": "stream",
     "text": [
      "/home/alt/micromamba/lib/python3.9/site-packages/keras/src/layers/rnn/rnn.py:204: UserWarning: Do not pass an `input_shape`/`input_dim` argument to a layer. When using Sequential models, prefer using an `Input(shape)` object as the first layer in the model instead.\n",
      "  super().__init__(**kwargs)\n"
     ]
    },
    {
     "name": "stdout",
     "output_type": "stream",
     "text": [
      "77448/77448 - 227s - 3ms/step - loss: 2.4306e-04\n",
      "Epoch 2/20\n",
      "77448/77448 - 226s - 3ms/step - loss: 3.4860e-06\n",
      "Epoch 3/20\n",
      "77448/77448 - 227s - 3ms/step - loss: 2.1218e-06\n",
      "Epoch 4/20\n",
      "77448/77448 - 232s - 3ms/step - loss: 1.5881e-06\n",
      "Epoch 5/20\n",
      "77448/77448 - 232s - 3ms/step - loss: 1.3884e-06\n",
      "Epoch 6/20\n",
      "77448/77448 - 230s - 3ms/step - loss: 1.3088e-06\n",
      "Epoch 7/20\n",
      "77448/77448 - 232s - 3ms/step - loss: 1.1904e-06\n",
      "Epoch 8/20\n",
      "77448/77448 - 233s - 3ms/step - loss: 1.1371e-06\n",
      "Epoch 9/20\n",
      "77448/77448 - 231s - 3ms/step - loss: 1.0619e-06\n",
      "Epoch 10/20\n",
      "77448/77448 - 258s - 3ms/step - loss: 9.6771e-07\n",
      "Epoch 11/20\n",
      "77448/77448 - 231s - 3ms/step - loss: 8.5247e-07\n",
      "Epoch 12/20\n",
      "77448/77448 - 231s - 3ms/step - loss: 8.2883e-07\n",
      "Epoch 13/20\n",
      "77448/77448 - 229s - 3ms/step - loss: 8.0804e-07\n",
      "Epoch 14/20\n",
      "77448/77448 - 231s - 3ms/step - loss: 7.7684e-07\n",
      "Epoch 15/20\n",
      "77448/77448 - 230s - 3ms/step - loss: 7.2992e-07\n",
      "Epoch 16/20\n",
      "77448/77448 - 261s - 3ms/step - loss: 7.3388e-07\n",
      "Epoch 17/20\n",
      "77448/77448 - 231s - 3ms/step - loss: 7.0839e-07\n",
      "Epoch 18/20\n",
      "77448/77448 - 230s - 3ms/step - loss: 7.4302e-07\n",
      "Epoch 19/20\n",
      "77448/77448 - 231s - 3ms/step - loss: 6.7917e-07\n",
      "Epoch 20/20\n",
      "77448/77448 - 228s - 3ms/step - loss: 6.5564e-07\n",
      "\u001b[1m1038/1038\u001b[0m \u001b[32m━━━━━━━━━━━━━━━━━━━━\u001b[0m\u001b[37m\u001b[0m \u001b[1m3s\u001b[0m 3ms/step\n"
     ]
    }
   ],
   "source": [
    "# Создание модели LSTM\n",
    "model = Sequential()\n",
    "model.add(LSTM(100, input_shape=(train_X.shape[1], 1)))\n",
    "model.add(Dense(1))\n",
    "model.compile(loss='mean_squared_error', optimizer='adam')\n",
    "\n",
    "# Обучение модели\n",
    "model.fit(train_X, train_y, epochs=20, batch_size=1, verbose=2)\n",
    "\n",
    "# Предсказание\n",
    "predictions = model.predict(test_X)"
   ]
  },
  {
   "cell_type": "code",
   "execution_count": 7,
   "metadata": {},
   "outputs": [
    {
     "data": {
      "image/png": "[encoded data removed]",
      "text/plain": [
       "<Figure size 800x400 with 1 Axes>"
      ]
     },
     "metadata": {},
     "output_type": "display_data"
    }
   ],
   "source": [
    "plt.figure(figsize=(8,4))\n",
    "plt.plot(test_y, color='blue', label='Реальные данные')\n",
    "plt.plot(predictions, color='red', label='Прогноз')\n",
    "plt.title('Прогноз и реальные данные')\n",
    "plt.xlabel('Время')\n",
    "plt.ylabel('Значение')\n",
    "plt.legend()\n",
    "plt.show()"
   ]
  }
 ],
 "metadata": {
  "kernelspec": {
   "display_name": "base",
   "language": "python",
   "name": "python3"
  },
  "language_info": {
   "codemirror_mode": {
    "name": "ipython",
    "version": 3
   },
   "file_extension": ".py",
   "mimetype": "text/x-python",
   "name": "python",
   "nbconvert_exporter": "python",
   "pygments_lexer": "ipython3",
   "version": "3.9.18"
  },
  "orig_nbformat": 4
 },
 "nbformat": 4,
 "nbformat_minor": 2
}
